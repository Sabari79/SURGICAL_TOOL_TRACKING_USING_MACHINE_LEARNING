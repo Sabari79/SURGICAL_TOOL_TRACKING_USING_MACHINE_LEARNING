{
 "cells": [
  {
   "cell_type": "code",
   "execution_count": null,
   "id": "5df4b781-b01f-463b-827e-c85d12884acb",
   "metadata": {},
   "outputs": [
    {
     "name": "stdout",
     "output_type": "stream",
     "text": [
      "\n",
      "image 1/1 D:\\project\\Datast\\project-tool\\download (1).jpg: 448x640 1 scalpel, 51.4ms\n",
      "Speed: 8.3ms preprocess, 51.4ms inference, 180.8ms postprocess per image at shape (1, 3, 448, 640)\n"
     ]
    }
   ],
   "source": [
    "from ultralytics import YOLO\n",
    "import cv2\n",
    "\n",
    "# Load the trained YOLOv8 model\n",
    "model_path = r\"D:\\project\\yolo_training\\tool_tracking7\\weights\\best.pt\"  # Update with the correct path\n",
    "model = YOLO(model_path)\n",
    "\n",
    "# Load the image for detection\n",
    "image_path = \"download (1).jpg\"  # Update with your image path\n",
    "image = cv2.imread(image_path)\n",
    "\n",
    "# Run detection\n",
    "results = model(image_path)\n",
    "\n",
    "# Process and display results\n",
    "for result in results:\n",
    "    for box in result.boxes:\n",
    "        x1, y1, x2, y2 = map(int, box.xyxy[0])  # Bounding box coordinates\n",
    "        conf = box.conf[0].item()  # Confidence score\n",
    "        cls = int(box.cls[0].item())  # Class index\n",
    "        label = f\"{model.names[cls]}: {conf:.2f}\"\n",
    "\n",
    "        # Draw bounding box and label\n",
    "        cv2.rectangle(image, (x1, y1), (x2, y2), (0, 255, 0), 2)\n",
    "        cv2.putText(image, label, (x1, y1 - 10), cv2.FONT_HERSHEY_SIMPLEX, 0.5, (0, 255, 0), 2)\n",
    "\n",
    "# Show the output image\n",
    "cv2.imshow(\"Detection\", image)\n",
    "cv2.waitKey(0)\n",
    "cv2.destroyAllWindows()"
   ]
  }
 ],
 "metadata": {
  "kernelspec": {
   "display_name": "Python 3 (ipykernel)",
   "language": "python",
   "name": "python3"
  },
  "language_info": {
   "codemirror_mode": {
    "name": "ipython",
    "version": 3
   },
   "file_extension": ".py",
   "mimetype": "text/x-python",
   "name": "python",
   "nbconvert_exporter": "python",
   "pygments_lexer": "ipython3",
   "version": "3.13.0"
  }
 },
 "nbformat": 4,
 "nbformat_minor": 5
}
